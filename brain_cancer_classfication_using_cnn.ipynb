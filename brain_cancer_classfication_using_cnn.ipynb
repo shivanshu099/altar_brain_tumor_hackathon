{
 "cells": [
  {
   "cell_type": "code",
   "execution_count": null,
   "metadata": {
    "executionInfo": {
     "elapsed": 36,
     "status": "ok",
     "timestamp": 1747507734022,
     "user": {
      "displayName": "sino toas",
      "userId": "03500899806796242522"
     },
     "user_tz": -330
    },
    "id": "n_hwLy7dNrTZ"
   },
   "outputs": [],
   "source": [
    "\n",
    "\n",
    "\n"
   ]
  },
  {
   "cell_type": "markdown",
   "metadata": {},
   "source": [
    "# 🧠 Brain Tumor Prediction Using MRI Scans\n",
    "\n",
    "hey this notboook conatin the brain tumor prediction using the mri scanw data frowm kaggle you can download the data from this link \n",
    "---\n",
    "\n",
    "## 📥 Dataset\n",
    "👉 [Brain Tumor MRI Dataset on Kaggle](https://www.kaggle.com/datasets/masoudnickparvar/brain-tumor-mri-dataset)\n",
    "after downloading the data move to the directory where is your notebook is located after this run the nootboook \n",
    "\n",
    "## tecnologies used here is\n",
    ".tenserrflow\n",
    ".sklearn\n",
    ".python\n",
    ".mri image data\n",
    "\n",
    "## purpose\n",
    "this  project in real life  it can be used for predicting any patient have tumor or not the patient can predict thier mri scan images if they contain tumor or not this can save many lifes of people\n"
   ]
  },
  {
   "cell_type": "code",
   "execution_count": 2,
   "metadata": {
    "colab": {
     "base_uri": "https://localhost:8080/"
    },
    "executionInfo": {
     "elapsed": 46,
     "status": "ok",
     "timestamp": 1747507739175,
     "user": {
      "displayName": "sino toas",
      "userId": "03500899806796242522"
     },
     "user_tz": -330
    },
    "id": "gqNV9kJEi42l",
    "outputId": "06ab704d-8957-4fe7-e732-9b7cc788f04b"
   },
   "outputs": [
    {
     "name": "stdout",
     "output_type": "stream",
     "text": [
      "Directory found: archive\\Testing\n",
      "Contents of the directory:\n",
      "glioma\n",
      "meningioma\n",
      "notumor\n",
      "pituitary\n"
     ]
    }
   ],
   "source": [
    "\n",
    "import os\n",
    "\n",
    "directory_path = r'archive\\Testing'\n",
    "\n",
    "# Check if the directory exists\n",
    "if os.path.exists(directory_path):\n",
    "    print(f\"Directory found: {directory_path}\")\n",
    "    # List the contents of the directory\n",
    "    print(\"Contents of the directory:\")\n",
    "    for item in os.listdir(directory_path):\n",
    "        print(item)\n",
    "else:\n",
    "    print(f\"Directory not found: {directory_path}\")"
   ]
  },
  {
   "cell_type": "markdown",
   "metadata": {},
   "source": [
    "**check for the image**\n"
   ]
  },
  {
   "cell_type": "code",
   "execution_count": 3,
   "metadata": {
    "colab": {
     "base_uri": "https://localhost:8080/"
    },
    "executionInfo": {
     "elapsed": 8,
     "status": "ok",
     "timestamp": 1747507744517,
     "user": {
      "displayName": "sino toas",
      "userId": "03500899806796242522"
     },
     "user_tz": -330
    },
    "id": "W_0fezdJkvaY",
    "outputId": "3279a746-b822-4b7d-8df6-b37eb49409b4"
   },
   "outputs": [
    {
     "name": "stdout",
     "output_type": "stream",
     "text": [
      "Subdirectory found: archive\\Testing\n",
      "Contents of the subdirectory:\n",
      "glioma\n",
      "meningioma\n",
      "notumor\n",
      "pituitary\n"
     ]
    }
   ],
   "source": [
    "import os\n",
    "\n",
    "subdirectory_path = r'archive\\Testing' # Check one of the subdirectories\n",
    "\n",
    "# Check if the subdirectory exists\n",
    "if os.path.exists(subdirectory_path):\n",
    "    print(f\"Subdirectory found: {subdirectory_path}\")\n",
    "    # List the contents of the subdirectory\n",
    "    print(\"Contents of the subdirectory:\")\n",
    "    for item in os.listdir(subdirectory_path):\n",
    "        print(item)\n",
    "else:\n",
    "    print(f\"Subdirectory not found: {subdirectory_path}\")\n",
    "\n"
   ]
  },
  {
   "cell_type": "markdown",
   "metadata": {},
   "source": [
    "**create the dataset**\n"
   ]
  },
  {
   "cell_type": "code",
   "execution_count": 4,
   "metadata": {},
   "outputs": [],
   "source": [
    "import pandas as pd\n",
    "import numpy as np\n",
    "from PIL import  Image\n",
    "\n",
    "def load_dataset(directory_path):\n",
    "    x=[]\n",
    "    y=[]\n",
    "    for name_dir in os.listdir(directory_path):\n",
    "        label_name=name_dir\n",
    "        for image_data in os.listdir(os.path.join(directory_path,name_dir)):\n",
    "            image_path=Image.open(os.path.join(directory_path,name_dir,image_data))\n",
    "            image_path=image_path.convert(\"L\")\n",
    "            image_path=image_path.resize((150,150))\n",
    "            x.append(np.array(image_path,dtype=np.float32)/255.0)\n",
    "            y.append(label_name)\n",
    "    return np.stack(x),np.array(y)\n",
    "\n",
    "\n",
    "x,y=load_dataset(r'archive\\Testing')\n",
    "\n",
    "\n",
    "    \n"
   ]
  },
  {
   "cell_type": "markdown",
   "metadata": {},
   "source": [
    "**map the labels**"
   ]
  },
  {
   "cell_type": "code",
   "execution_count": 5,
   "metadata": {},
   "outputs": [],
   "source": [
    "\n",
    "map_tumor={\"glioma\":0,\"meningioma\":1,\"notumor\":2,\"pituitary\":3}\n",
    "y=np.array([map_tumor[i] for i in y])\n",
    "\n",
    "num_samples=x.shape[0]\n",
    "x=x.reshape(num_samples,150,150,1)\n",
    "\n",
    "\n"
   ]
  },
  {
   "cell_type": "markdown",
   "metadata": {},
   "source": [
    "**split the dataset**"
   ]
  },
  {
   "cell_type": "code",
   "execution_count": 6,
   "metadata": {},
   "outputs": [],
   "source": [
    "from sklearn.model_selection import train_test_split\n",
    "\n",
    "x_train, x_test, y_train, y_test = train_test_split(x, y, test_size=0.2, random_state=42)\n",
    "\n",
    "\n"
   ]
  },
  {
   "cell_type": "code",
   "execution_count": null,
   "metadata": {},
   "outputs": [
    {
     "ename": "SyntaxError",
     "evalue": "invalid syntax (444565516.py, line 1)",
     "output_type": "error",
     "traceback": [
      "\u001b[1;36m  Cell \u001b[1;32mIn[8], line 1\u001b[1;36m\u001b[0m\n\u001b[1;33m    from matplotlib.pyplot as plt\u001b[0m\n\u001b[1;37m                           ^\u001b[0m\n\u001b[1;31mSyntaxError\u001b[0m\u001b[1;31m:\u001b[0m invalid syntax\n"
     ]
    }
   ],
   "source": [
    "\n",
    "\n",
    "\n",
    "\n",
    "\n",
    "\n",
    "\n",
    "for i in range(1):\n",
    "    print(x[i].shape)\n",
    "    print(x[i])\n",
    "    print(y[i])\n",
    "    plt.imshow(x[i])\n",
    "    plt.show()\n",
    "\n"
   ]
  },
  {
   "cell_type": "code",
   "execution_count": 112,
   "metadata": {},
   "outputs": [
    {
     "name": "stdout",
     "output_type": "stream",
     "text": [
      "<class 'numpy.ndarray'>\n"
     ]
    }
   ],
   "source": [
    "print(type(y))\n",
    "\n"
   ]
  },
  {
   "cell_type": "code",
   "execution_count": 113,
   "metadata": {},
   "outputs": [
    {
     "data": {
      "text/plain": [
       "(1311, 150, 150, 1)"
      ]
     },
     "execution_count": 113,
     "metadata": {},
     "output_type": "execute_result"
    }
   ],
   "source": [
    "x.shape"
   ]
  },
  {
   "cell_type": "markdown",
   "metadata": {},
   "source": [
    "**model defination**"
   ]
  },
  {
   "cell_type": "code",
   "execution_count": 114,
   "metadata": {
    "executionInfo": {
     "elapsed": 5461,
     "status": "aborted",
     "timestamp": 1747507739211,
     "user": {
      "displayName": "sino toas",
      "userId": "03500899806796242522"
     },
     "user_tz": -330
    },
    "id": "fkyi9lI2N2VQ"
   },
   "outputs": [],
   "source": [
    "\n",
    "\"\"\"from tensorflow.keras import layers, models\n",
    "\n",
    "model = models.Sequential([\n",
    "    layers.Conv2D(32, (3,3), activation='relu', input_shape=(150,150,1)),\n",
    "    layers.MaxPooling2D((2,2)),\n",
    "    layers.Conv2D(64, (3,3), activation='relu'),\n",
    "    layers.MaxPooling2D((2,2)),\n",
    "    layers.Flatten(),\n",
    "    layers.Dense(128, activation='relu'),\n",
    "    layers.Dense(1, activation='sigmoid')\n",
    "])\"\"\"\n",
    "from tensorflow.keras import layers, models\n",
    "\n",
    "model = models.Sequential([\n",
    "    layers.Conv2D(32, (3,3), activation='relu', input_shape=(150,150,1)),\n",
    "    layers.MaxPooling2D((2,2)),\n",
    "    layers.Conv2D(64, (3,3), activation='relu'),\n",
    "    layers.MaxPooling2D((2,2)),\n",
    "    layers.Flatten(),\n",
    "    layers.Dense(128, activation='relu'),\n",
    "    layers.Dense(4, activation='softmax')  # ✅ 4 neurons for 4 classes\n",
    "])\n",
    "\n",
    "model.compile(\n",
    "    optimizer='adam',\n",
    "    loss='sparse_categorical_crossentropy',  # or 'categorical_crossentropy' if one-hot\n",
    "    metrics=['accuracy']\n",
    ")\n",
    "\n"
   ]
  },
  {
   "cell_type": "markdown",
   "metadata": {},
   "source": [
    "**model checkpoint**"
   ]
  },
  {
   "cell_type": "code",
   "execution_count": 115,
   "metadata": {},
   "outputs": [],
   "source": [
    "from tensorflow.keras.callbacks import ModelCheckpoint\n",
    "\n",
    "checkpoint = ModelCheckpoint(\n",
    "    filepath='best_model.h5',        # or 'best_model.keras' for TF2.12+\n",
    "    monitor='val_loss',              # or 'val_accuracy'\n",
    "    save_best_only=True,\n",
    "    mode='min',                      # 'min' for loss, 'max' for accuracy\n",
    "    verbose=1\n",
    ")\n",
    "\n"
   ]
  },
  {
   "cell_type": "markdown",
   "metadata": {},
   "source": [
    "**train the model**"
   ]
  },
  {
   "cell_type": "code",
   "execution_count": 116,
   "metadata": {},
   "outputs": [
    {
     "name": "stdout",
     "output_type": "stream",
     "text": [
      "Epoch 1/50\n",
      "\u001b[1m33/33\u001b[0m \u001b[32m━━━━━━━━━━━━━━━━━━━━\u001b[0m\u001b[37m\u001b[0m \u001b[1m0s\u001b[0m 425ms/step - accuracy: 0.3259 - loss: 1.4808\n",
      "Epoch 1: val_loss improved from inf to 0.82703, saving model to best_model.h5\n"
     ]
    },
    {
     "name": "stderr",
     "output_type": "stream",
     "text": [
      "WARNING:absl:You are saving your model as an HDF5 file via `model.save()` or `keras.saving.save_model(model)`. This file format is considered legacy. We recommend using instead the native Keras format, e.g. `model.save('my_model.keras')` or `keras.saving.save_model(model, 'my_model.keras')`. \n"
     ]
    },
    {
     "name": "stdout",
     "output_type": "stream",
     "text": [
      "\u001b[1m33/33\u001b[0m \u001b[32m━━━━━━━━━━━━━━━━━━━━\u001b[0m\u001b[37m\u001b[0m \u001b[1m18s\u001b[0m 477ms/step - accuracy: 0.3291 - loss: 1.4733 - val_accuracy: 0.6844 - val_loss: 0.8270\n",
      "Epoch 2/50\n",
      "\u001b[1m33/33\u001b[0m \u001b[32m━━━━━━━━━━━━━━━━━━━━\u001b[0m\u001b[37m\u001b[0m \u001b[1m0s\u001b[0m 445ms/step - accuracy: 0.7220 - loss: 0.6898\n",
      "Epoch 2: val_loss improved from 0.82703 to 0.58726, saving model to best_model.h5\n"
     ]
    },
    {
     "name": "stderr",
     "output_type": "stream",
     "text": [
      "WARNING:absl:You are saving your model as an HDF5 file via `model.save()` or `keras.saving.save_model(model)`. This file format is considered legacy. We recommend using instead the native Keras format, e.g. `model.save('my_model.keras')` or `keras.saving.save_model(model, 'my_model.keras')`. \n"
     ]
    },
    {
     "name": "stdout",
     "output_type": "stream",
     "text": [
      "\u001b[1m33/33\u001b[0m \u001b[32m━━━━━━━━━━━━━━━━━━━━\u001b[0m\u001b[37m\u001b[0m \u001b[1m16s\u001b[0m 489ms/step - accuracy: 0.7229 - loss: 0.6884 - val_accuracy: 0.7719 - val_loss: 0.5873\n",
      "Epoch 3/50\n",
      "\u001b[1m33/33\u001b[0m \u001b[32m━━━━━━━━━━━━━━━━━━━━\u001b[0m\u001b[37m\u001b[0m \u001b[1m0s\u001b[0m 479ms/step - accuracy: 0.8383 - loss: 0.4441\n",
      "Epoch 3: val_loss improved from 0.58726 to 0.55971, saving model to best_model.h5\n"
     ]
    },
    {
     "name": "stderr",
     "output_type": "stream",
     "text": [
      "WARNING:absl:You are saving your model as an HDF5 file via `model.save()` or `keras.saving.save_model(model)`. This file format is considered legacy. We recommend using instead the native Keras format, e.g. `model.save('my_model.keras')` or `keras.saving.save_model(model, 'my_model.keras')`. \n"
     ]
    },
    {
     "name": "stdout",
     "output_type": "stream",
     "text": [
      "\u001b[1m33/33\u001b[0m \u001b[32m━━━━━━━━━━━━━━━━━━━━\u001b[0m\u001b[37m\u001b[0m \u001b[1m17s\u001b[0m 521ms/step - accuracy: 0.8385 - loss: 0.4436 - val_accuracy: 0.7833 - val_loss: 0.5597\n",
      "Epoch 4/50\n",
      "\u001b[1m33/33\u001b[0m \u001b[32m━━━━━━━━━━━━━━━━━━━━\u001b[0m\u001b[37m\u001b[0m \u001b[1m0s\u001b[0m 503ms/step - accuracy: 0.9259 - loss: 0.2343\n",
      "Epoch 4: val_loss improved from 0.55971 to 0.48514, saving model to best_model.h5\n"
     ]
    },
    {
     "name": "stderr",
     "output_type": "stream",
     "text": [
      "WARNING:absl:You are saving your model as an HDF5 file via `model.save()` or `keras.saving.save_model(model)`. This file format is considered legacy. We recommend using instead the native Keras format, e.g. `model.save('my_model.keras')` or `keras.saving.save_model(model, 'my_model.keras')`. \n"
     ]
    },
    {
     "name": "stdout",
     "output_type": "stream",
     "text": [
      "\u001b[1m33/33\u001b[0m \u001b[32m━━━━━━━━━━━━━━━━━━━━\u001b[0m\u001b[37m\u001b[0m \u001b[1m18s\u001b[0m 543ms/step - accuracy: 0.9255 - loss: 0.2347 - val_accuracy: 0.8251 - val_loss: 0.4851\n",
      "Epoch 5/50\n",
      "\u001b[1m33/33\u001b[0m \u001b[32m━━━━━━━━━━━━━━━━━━━━\u001b[0m\u001b[37m\u001b[0m \u001b[1m0s\u001b[0m 441ms/step - accuracy: 0.9714 - loss: 0.1317\n",
      "Epoch 5: val_loss did not improve from 0.48514\n",
      "\u001b[1m33/33\u001b[0m \u001b[32m━━━━━━━━━━━━━━━━━━━━\u001b[0m\u001b[37m\u001b[0m \u001b[1m18s\u001b[0m 467ms/step - accuracy: 0.9713 - loss: 0.1314 - val_accuracy: 0.8365 - val_loss: 0.5452\n",
      "Epoch 6/50\n",
      "\u001b[1m33/33\u001b[0m \u001b[32m━━━━━━━━━━━━━━━━━━━━\u001b[0m\u001b[37m\u001b[0m \u001b[1m0s\u001b[0m 453ms/step - accuracy: 0.9822 - loss: 0.0704\n",
      "Epoch 6: val_loss did not improve from 0.48514\n",
      "\u001b[1m33/33\u001b[0m \u001b[32m━━━━━━━━━━━━━━━━━━━━\u001b[0m\u001b[37m\u001b[0m \u001b[1m16s\u001b[0m 481ms/step - accuracy: 0.9822 - loss: 0.0704 - val_accuracy: 0.8365 - val_loss: 0.5628\n",
      "Epoch 7/50\n",
      "\u001b[1m33/33\u001b[0m \u001b[32m━━━━━━━━━━━━━━━━━━━━\u001b[0m\u001b[37m\u001b[0m \u001b[1m0s\u001b[0m 459ms/step - accuracy: 0.9936 - loss: 0.0444\n",
      "Epoch 7: val_loss did not improve from 0.48514\n",
      "\u001b[1m33/33\u001b[0m \u001b[32m━━━━━━━━━━━━━━━━━━━━\u001b[0m\u001b[37m\u001b[0m \u001b[1m16s\u001b[0m 489ms/step - accuracy: 0.9934 - loss: 0.0445 - val_accuracy: 0.8213 - val_loss: 0.6211\n",
      "Epoch 8/50\n",
      "\u001b[1m33/33\u001b[0m \u001b[32m━━━━━━━━━━━━━━━━━━━━\u001b[0m\u001b[37m\u001b[0m \u001b[1m0s\u001b[0m 450ms/step - accuracy: 0.9965 - loss: 0.0265\n",
      "Epoch 8: val_loss did not improve from 0.48514\n",
      "\u001b[1m33/33\u001b[0m \u001b[32m━━━━━━━━━━━━━━━━━━━━\u001b[0m\u001b[37m\u001b[0m \u001b[1m16s\u001b[0m 478ms/step - accuracy: 0.9964 - loss: 0.0265 - val_accuracy: 0.8289 - val_loss: 0.6761\n",
      "Epoch 9/50\n",
      "\u001b[1m33/33\u001b[0m \u001b[32m━━━━━━━━━━━━━━━━━━━━\u001b[0m\u001b[37m\u001b[0m \u001b[1m0s\u001b[0m 463ms/step - accuracy: 0.9970 - loss: 0.0164\n",
      "Epoch 9: val_loss did not improve from 0.48514\n",
      "\u001b[1m33/33\u001b[0m \u001b[32m━━━━━━━━━━━━━━━━━━━━\u001b[0m\u001b[37m\u001b[0m \u001b[1m16s\u001b[0m 490ms/step - accuracy: 0.9970 - loss: 0.0163 - val_accuracy: 0.8479 - val_loss: 0.6770\n",
      "Epoch 10/50\n",
      "\u001b[1m33/33\u001b[0m \u001b[32m━━━━━━━━━━━━━━━━━━━━\u001b[0m\u001b[37m\u001b[0m \u001b[1m0s\u001b[0m 459ms/step - accuracy: 1.0000 - loss: 0.0057\n",
      "Epoch 10: val_loss did not improve from 0.48514\n",
      "\u001b[1m33/33\u001b[0m \u001b[32m━━━━━━━━━━━━━━━━━━━━\u001b[0m\u001b[37m\u001b[0m \u001b[1m16s\u001b[0m 489ms/step - accuracy: 1.0000 - loss: 0.0057 - val_accuracy: 0.8365 - val_loss: 0.7272\n",
      "Epoch 11/50\n",
      "\u001b[1m33/33\u001b[0m \u001b[32m━━━━━━━━━━━━━━━━━━━━\u001b[0m\u001b[37m\u001b[0m \u001b[1m0s\u001b[0m 480ms/step - accuracy: 1.0000 - loss: 0.0036\n",
      "Epoch 11: val_loss did not improve from 0.48514\n",
      "\u001b[1m33/33\u001b[0m \u001b[32m━━━━━━━━━━━━━━━━━━━━\u001b[0m\u001b[37m\u001b[0m \u001b[1m17s\u001b[0m 510ms/step - accuracy: 1.0000 - loss: 0.0036 - val_accuracy: 0.8327 - val_loss: 0.7514\n",
      "Epoch 12/50\n",
      "\u001b[1m33/33\u001b[0m \u001b[32m━━━━━━━━━━━━━━━━━━━━\u001b[0m\u001b[37m\u001b[0m \u001b[1m0s\u001b[0m 471ms/step - accuracy: 1.0000 - loss: 0.0019\n",
      "Epoch 12: val_loss did not improve from 0.48514\n",
      "\u001b[1m33/33\u001b[0m \u001b[32m━━━━━━━━━━━━━━━━━━━━\u001b[0m\u001b[37m\u001b[0m \u001b[1m16s\u001b[0m 499ms/step - accuracy: 1.0000 - loss: 0.0019 - val_accuracy: 0.8289 - val_loss: 0.7633\n",
      "Epoch 13/50\n",
      "\u001b[1m33/33\u001b[0m \u001b[32m━━━━━━━━━━━━━━━━━━━━\u001b[0m\u001b[37m\u001b[0m \u001b[1m0s\u001b[0m 471ms/step - accuracy: 1.0000 - loss: 0.0016\n",
      "Epoch 13: val_loss did not improve from 0.48514\n",
      "\u001b[1m33/33\u001b[0m \u001b[32m━━━━━━━━━━━━━━━━━━━━\u001b[0m\u001b[37m\u001b[0m \u001b[1m21s\u001b[0m 498ms/step - accuracy: 1.0000 - loss: 0.0016 - val_accuracy: 0.8289 - val_loss: 0.7916\n",
      "Epoch 14/50\n",
      "\u001b[1m33/33\u001b[0m \u001b[32m━━━━━━━━━━━━━━━━━━━━\u001b[0m\u001b[37m\u001b[0m \u001b[1m0s\u001b[0m 467ms/step - accuracy: 1.0000 - loss: 0.0010\n",
      "Epoch 14: val_loss did not improve from 0.48514\n",
      "\u001b[1m33/33\u001b[0m \u001b[32m━━━━━━━━━━━━━━━━━━━━\u001b[0m\u001b[37m\u001b[0m \u001b[1m16s\u001b[0m 497ms/step - accuracy: 1.0000 - loss: 0.0010 - val_accuracy: 0.8289 - val_loss: 0.8145\n",
      "Epoch 15/50\n",
      "\u001b[1m33/33\u001b[0m \u001b[32m━━━━━━━━━━━━━━━━━━━━\u001b[0m\u001b[37m\u001b[0m \u001b[1m0s\u001b[0m 457ms/step - accuracy: 1.0000 - loss: 8.7449e-04\n",
      "Epoch 15: val_loss did not improve from 0.48514\n",
      "\u001b[1m33/33\u001b[0m \u001b[32m━━━━━━━━━━━━━━━━━━━━\u001b[0m\u001b[37m\u001b[0m \u001b[1m20s\u001b[0m 487ms/step - accuracy: 1.0000 - loss: 8.7472e-04 - val_accuracy: 0.8251 - val_loss: 0.8398\n",
      "Epoch 16/50\n",
      "\u001b[1m33/33\u001b[0m \u001b[32m━━━━━━━━━━━━━━━━━━━━\u001b[0m\u001b[37m\u001b[0m \u001b[1m0s\u001b[0m 472ms/step - accuracy: 1.0000 - loss: 7.0400e-04\n",
      "Epoch 16: val_loss did not improve from 0.48514\n",
      "\u001b[1m33/33\u001b[0m \u001b[32m━━━━━━━━━━━━━━━━━━━━\u001b[0m\u001b[37m\u001b[0m \u001b[1m21s\u001b[0m 499ms/step - accuracy: 1.0000 - loss: 7.0416e-04 - val_accuracy: 0.8289 - val_loss: 0.8466\n",
      "Epoch 17/50\n",
      "\u001b[1m33/33\u001b[0m \u001b[32m━━━━━━━━━━━━━━━━━━━━\u001b[0m\u001b[37m\u001b[0m \u001b[1m0s\u001b[0m 461ms/step - accuracy: 1.0000 - loss: 6.2950e-04\n",
      "Epoch 17: val_loss did not improve from 0.48514\n",
      "\u001b[1m33/33\u001b[0m \u001b[32m━━━━━━━━━━━━━━━━━━━━\u001b[0m\u001b[37m\u001b[0m \u001b[1m16s\u001b[0m 489ms/step - accuracy: 1.0000 - loss: 6.2897e-04 - val_accuracy: 0.8251 - val_loss: 0.8755\n",
      "Epoch 18/50\n",
      "\u001b[1m33/33\u001b[0m \u001b[32m━━━━━━━━━━━━━━━━━━━━\u001b[0m\u001b[37m\u001b[0m \u001b[1m0s\u001b[0m 502ms/step - accuracy: 1.0000 - loss: 5.4349e-04\n",
      "Epoch 18: val_loss did not improve from 0.48514\n",
      "\u001b[1m33/33\u001b[0m \u001b[32m━━━━━━━━━━━━━━━━━━━━\u001b[0m\u001b[37m\u001b[0m \u001b[1m18s\u001b[0m 531ms/step - accuracy: 1.0000 - loss: 5.4285e-04 - val_accuracy: 0.8289 - val_loss: 0.8893\n",
      "Epoch 19/50\n",
      "\u001b[1m33/33\u001b[0m \u001b[32m━━━━━━━━━━━━━━━━━━━━\u001b[0m\u001b[37m\u001b[0m \u001b[1m0s\u001b[0m 470ms/step - accuracy: 1.0000 - loss: 4.2796e-04\n",
      "Epoch 19: val_loss did not improve from 0.48514\n",
      "\u001b[1m33/33\u001b[0m \u001b[32m━━━━━━━━━━━━━━━━━━━━\u001b[0m\u001b[37m\u001b[0m \u001b[1m20s\u001b[0m 498ms/step - accuracy: 1.0000 - loss: 4.2821e-04 - val_accuracy: 0.8327 - val_loss: 0.9108\n",
      "Epoch 20/50\n",
      "\u001b[1m33/33\u001b[0m \u001b[32m━━━━━━━━━━━━━━━━━━━━\u001b[0m\u001b[37m\u001b[0m \u001b[1m0s\u001b[0m 471ms/step - accuracy: 1.0000 - loss: 3.8856e-04\n",
      "Epoch 20: val_loss did not improve from 0.48514\n",
      "\u001b[1m33/33\u001b[0m \u001b[32m━━━━━━━━━━━━━━━━━━━━\u001b[0m\u001b[37m\u001b[0m \u001b[1m17s\u001b[0m 498ms/step - accuracy: 1.0000 - loss: 3.8874e-04 - val_accuracy: 0.8327 - val_loss: 0.9160\n",
      "Epoch 21/50\n",
      "\u001b[1m33/33\u001b[0m \u001b[32m━━━━━━━━━━━━━━━━━━━━\u001b[0m\u001b[37m\u001b[0m \u001b[1m0s\u001b[0m 470ms/step - accuracy: 1.0000 - loss: 3.4999e-04\n",
      "Epoch 21: val_loss did not improve from 0.48514\n",
      "\u001b[1m33/33\u001b[0m \u001b[32m━━━━━━━━━━━━━━━━━━━━\u001b[0m\u001b[37m\u001b[0m \u001b[1m21s\u001b[0m 499ms/step - accuracy: 1.0000 - loss: 3.4957e-04 - val_accuracy: 0.8251 - val_loss: 0.9467\n",
      "Epoch 22/50\n",
      "\u001b[1m33/33\u001b[0m \u001b[32m━━━━━━━━━━━━━━━━━━━━\u001b[0m\u001b[37m\u001b[0m \u001b[1m0s\u001b[0m 491ms/step - accuracy: 1.0000 - loss: 3.1077e-04\n",
      "Epoch 22: val_loss did not improve from 0.48514\n",
      "\u001b[1m33/33\u001b[0m \u001b[32m━━━━━━━━━━━━━━━━━━━━\u001b[0m\u001b[37m\u001b[0m \u001b[1m17s\u001b[0m 522ms/step - accuracy: 1.0000 - loss: 3.1024e-04 - val_accuracy: 0.8289 - val_loss: 0.9519\n",
      "Epoch 23/50\n",
      "\u001b[1m33/33\u001b[0m \u001b[32m━━━━━━━━━━━━━━━━━━━━\u001b[0m\u001b[37m\u001b[0m \u001b[1m0s\u001b[0m 483ms/step - accuracy: 1.0000 - loss: 2.6296e-04\n",
      "Epoch 23: val_loss did not improve from 0.48514\n",
      "\u001b[1m33/33\u001b[0m \u001b[32m━━━━━━━━━━━━━━━━━━━━\u001b[0m\u001b[37m\u001b[0m \u001b[1m17s\u001b[0m 512ms/step - accuracy: 1.0000 - loss: 2.6316e-04 - val_accuracy: 0.8327 - val_loss: 0.9581\n",
      "Epoch 24/50\n",
      "\u001b[1m33/33\u001b[0m \u001b[32m━━━━━━━━━━━━━━━━━━━━\u001b[0m\u001b[37m\u001b[0m \u001b[1m0s\u001b[0m 478ms/step - accuracy: 1.0000 - loss: 2.3004e-04\n",
      "Epoch 24: val_loss did not improve from 0.48514\n",
      "\u001b[1m33/33\u001b[0m \u001b[32m━━━━━━━━━━━━━━━━━━━━\u001b[0m\u001b[37m\u001b[0m \u001b[1m20s\u001b[0m 507ms/step - accuracy: 1.0000 - loss: 2.3029e-04 - val_accuracy: 0.8327 - val_loss: 0.9762\n",
      "Epoch 25/50\n",
      "\u001b[1m33/33\u001b[0m \u001b[32m━━━━━━━━━━━━━━━━━━━━\u001b[0m\u001b[37m\u001b[0m \u001b[1m0s\u001b[0m 471ms/step - accuracy: 1.0000 - loss: 1.9225e-04\n",
      "Epoch 25: val_loss did not improve from 0.48514\n",
      "\u001b[1m33/33\u001b[0m \u001b[32m━━━━━━━━━━━━━━━━━━━━\u001b[0m\u001b[37m\u001b[0m \u001b[1m20s\u001b[0m 500ms/step - accuracy: 1.0000 - loss: 1.9273e-04 - val_accuracy: 0.8289 - val_loss: 1.0062\n",
      "Epoch 26/50\n",
      "\u001b[1m33/33\u001b[0m \u001b[32m━━━━━━━━━━━━━━━━━━━━\u001b[0m\u001b[37m\u001b[0m \u001b[1m0s\u001b[0m 470ms/step - accuracy: 1.0000 - loss: 1.7344e-04\n",
      "Epoch 26: val_loss did not improve from 0.48514\n",
      "\u001b[1m33/33\u001b[0m \u001b[32m━━━━━━━━━━━━━━━━━━━━\u001b[0m\u001b[37m\u001b[0m \u001b[1m16s\u001b[0m 498ms/step - accuracy: 1.0000 - loss: 1.7376e-04 - val_accuracy: 0.8289 - val_loss: 1.0149\n",
      "Epoch 27/50\n",
      "\u001b[1m33/33\u001b[0m \u001b[32m━━━━━━━━━━━━━━━━━━━━\u001b[0m\u001b[37m\u001b[0m \u001b[1m0s\u001b[0m 474ms/step - accuracy: 1.0000 - loss: 1.5965e-04\n",
      "Epoch 27: val_loss did not improve from 0.48514\n",
      "\u001b[1m33/33\u001b[0m \u001b[32m━━━━━━━━━━━━━━━━━━━━\u001b[0m\u001b[37m\u001b[0m \u001b[1m17s\u001b[0m 503ms/step - accuracy: 1.0000 - loss: 1.5988e-04 - val_accuracy: 0.8289 - val_loss: 1.0380\n",
      "Epoch 28/50\n",
      "\u001b[1m33/33\u001b[0m \u001b[32m━━━━━━━━━━━━━━━━━━━━\u001b[0m\u001b[37m\u001b[0m \u001b[1m0s\u001b[0m 511ms/step - accuracy: 1.0000 - loss: 1.4029e-04\n",
      "Epoch 28: val_loss did not improve from 0.48514\n",
      "\u001b[1m33/33\u001b[0m \u001b[32m━━━━━━━━━━━━━━━━━━━━\u001b[0m\u001b[37m\u001b[0m \u001b[1m18s\u001b[0m 540ms/step - accuracy: 1.0000 - loss: 1.4057e-04 - val_accuracy: 0.8289 - val_loss: 1.0317\n",
      "Epoch 29/50\n",
      "\u001b[1m33/33\u001b[0m \u001b[32m━━━━━━━━━━━━━━━━━━━━\u001b[0m\u001b[37m\u001b[0m \u001b[1m0s\u001b[0m 526ms/step - accuracy: 1.0000 - loss: 1.4519e-04\n",
      "Epoch 29: val_loss did not improve from 0.48514\n",
      "\u001b[1m33/33\u001b[0m \u001b[32m━━━━━━━━━━━━━━━━━━━━\u001b[0m\u001b[37m\u001b[0m \u001b[1m19s\u001b[0m 574ms/step - accuracy: 1.0000 - loss: 1.4500e-04 - val_accuracy: 0.8327 - val_loss: 1.0488\n",
      "Epoch 30/50\n",
      "\u001b[1m33/33\u001b[0m \u001b[32m━━━━━━━━━━━━━━━━━━━━\u001b[0m\u001b[37m\u001b[0m \u001b[1m0s\u001b[0m 654ms/step - accuracy: 1.0000 - loss: 1.1879e-04\n",
      "Epoch 30: val_loss did not improve from 0.48514\n",
      "\u001b[1m33/33\u001b[0m \u001b[32m━━━━━━━━━━━━━━━━━━━━\u001b[0m\u001b[37m\u001b[0m \u001b[1m23s\u001b[0m 688ms/step - accuracy: 1.0000 - loss: 1.1901e-04 - val_accuracy: 0.8289 - val_loss: 1.0544\n",
      "Epoch 31/50\n",
      "\u001b[1m33/33\u001b[0m \u001b[32m━━━━━━━━━━━━━━━━━━━━\u001b[0m\u001b[37m\u001b[0m \u001b[1m0s\u001b[0m 708ms/step - accuracy: 1.0000 - loss: 1.1723e-04\n",
      "Epoch 31: val_loss did not improve from 0.48514\n",
      "\u001b[1m33/33\u001b[0m \u001b[32m━━━━━━━━━━━━━━━━━━━━\u001b[0m\u001b[37m\u001b[0m \u001b[1m24s\u001b[0m 748ms/step - accuracy: 1.0000 - loss: 1.1720e-04 - val_accuracy: 0.8327 - val_loss: 1.0741\n",
      "Epoch 32/50\n",
      "\u001b[1m33/33\u001b[0m \u001b[32m━━━━━━━━━━━━━━━━━━━━\u001b[0m\u001b[37m\u001b[0m \u001b[1m0s\u001b[0m 601ms/step - accuracy: 1.0000 - loss: 1.1016e-04\n",
      "Epoch 32: val_loss did not improve from 0.48514\n",
      "\u001b[1m33/33\u001b[0m \u001b[32m━━━━━━━━━━━━━━━━━━━━\u001b[0m\u001b[37m\u001b[0m \u001b[1m21s\u001b[0m 641ms/step - accuracy: 1.0000 - loss: 1.1005e-04 - val_accuracy: 0.8327 - val_loss: 1.0819\n",
      "Epoch 33/50\n",
      "\u001b[1m33/33\u001b[0m \u001b[32m━━━━━━━━━━━━━━━━━━━━\u001b[0m\u001b[37m\u001b[0m \u001b[1m0s\u001b[0m 581ms/step - accuracy: 1.0000 - loss: 1.0083e-04\n",
      "Epoch 33: val_loss did not improve from 0.48514\n",
      "\u001b[1m33/33\u001b[0m \u001b[32m━━━━━━━━━━━━━━━━━━━━\u001b[0m\u001b[37m\u001b[0m \u001b[1m42s\u001b[0m 671ms/step - accuracy: 1.0000 - loss: 1.0077e-04 - val_accuracy: 0.8327 - val_loss: 1.0946\n",
      "Epoch 34/50\n",
      "\u001b[1m33/33\u001b[0m \u001b[32m━━━━━━━━━━━━━━━━━━━━\u001b[0m\u001b[37m\u001b[0m \u001b[1m0s\u001b[0m 809ms/step - accuracy: 1.0000 - loss: 8.8914e-05\n",
      "Epoch 34: val_loss did not improve from 0.48514\n",
      "\u001b[1m33/33\u001b[0m \u001b[32m━━━━━━━━━━━━━━━━━━━━\u001b[0m\u001b[37m\u001b[0m \u001b[1m47s\u001b[0m 844ms/step - accuracy: 1.0000 - loss: 8.8922e-05 - val_accuracy: 0.8327 - val_loss: 1.1082\n",
      "Epoch 35/50\n",
      "\u001b[1m33/33\u001b[0m \u001b[32m━━━━━━━━━━━━━━━━━━━━\u001b[0m\u001b[37m\u001b[0m \u001b[1m0s\u001b[0m 482ms/step - accuracy: 1.0000 - loss: 8.4985e-05\n",
      "Epoch 35: val_loss did not improve from 0.48514\n",
      "\u001b[1m33/33\u001b[0m \u001b[32m━━━━━━━━━━━━━━━━━━━━\u001b[0m\u001b[37m\u001b[0m \u001b[1m17s\u001b[0m 518ms/step - accuracy: 1.0000 - loss: 8.4940e-05 - val_accuracy: 0.8289 - val_loss: 1.1123\n",
      "Epoch 36/50\n",
      "\u001b[1m33/33\u001b[0m \u001b[32m━━━━━━━━━━━━━━━━━━━━\u001b[0m\u001b[37m\u001b[0m \u001b[1m0s\u001b[0m 524ms/step - accuracy: 1.0000 - loss: 8.2026e-05\n",
      "Epoch 36: val_loss did not improve from 0.48514\n",
      "\u001b[1m33/33\u001b[0m \u001b[32m━━━━━━━━━━━━━━━━━━━━\u001b[0m\u001b[37m\u001b[0m \u001b[1m18s\u001b[0m 557ms/step - accuracy: 1.0000 - loss: 8.1889e-05 - val_accuracy: 0.8289 - val_loss: 1.1140\n",
      "Epoch 37/50\n",
      "\u001b[1m33/33\u001b[0m \u001b[32m━━━━━━━━━━━━━━━━━━━━\u001b[0m\u001b[37m\u001b[0m \u001b[1m0s\u001b[0m 584ms/step - accuracy: 1.0000 - loss: 6.6749e-05\n",
      "Epoch 37: val_loss did not improve from 0.48514\n",
      "\u001b[1m33/33\u001b[0m \u001b[32m━━━━━━━━━━━━━━━━━━━━\u001b[0m\u001b[37m\u001b[0m \u001b[1m22s\u001b[0m 674ms/step - accuracy: 1.0000 - loss: 6.6865e-05 - val_accuracy: 0.8327 - val_loss: 1.1384\n",
      "Epoch 38/50\n",
      "\u001b[1m33/33\u001b[0m \u001b[32m━━━━━━━━━━━━━━━━━━━━\u001b[0m\u001b[37m\u001b[0m \u001b[1m0s\u001b[0m 605ms/step - accuracy: 1.0000 - loss: 6.6010e-05\n",
      "Epoch 38: val_loss did not improve from 0.48514\n",
      "\u001b[1m33/33\u001b[0m \u001b[32m━━━━━━━━━━━━━━━━━━━━\u001b[0m\u001b[37m\u001b[0m \u001b[1m21s\u001b[0m 651ms/step - accuracy: 1.0000 - loss: 6.6010e-05 - val_accuracy: 0.8289 - val_loss: 1.1353\n",
      "Epoch 39/50\n",
      "\u001b[1m33/33\u001b[0m \u001b[32m━━━━━━━━━━━━━━━━━━━━\u001b[0m\u001b[37m\u001b[0m \u001b[1m0s\u001b[0m 555ms/step - accuracy: 1.0000 - loss: 6.0308e-05\n",
      "Epoch 39: val_loss did not improve from 0.48514\n",
      "\u001b[1m33/33\u001b[0m \u001b[32m━━━━━━━━━━━━━━━━━━━━\u001b[0m\u001b[37m\u001b[0m \u001b[1m39s\u001b[0m 600ms/step - accuracy: 1.0000 - loss: 6.0409e-05 - val_accuracy: 0.8327 - val_loss: 1.1541\n",
      "Epoch 40/50\n",
      "\u001b[1m33/33\u001b[0m \u001b[32m━━━━━━━━━━━━━━━━━━━━\u001b[0m\u001b[37m\u001b[0m \u001b[1m0s\u001b[0m 582ms/step - accuracy: 1.0000 - loss: 5.7317e-05\n",
      "Epoch 40: val_loss did not improve from 0.48514\n",
      "\u001b[1m33/33\u001b[0m \u001b[32m━━━━━━━━━━━━━━━━━━━━\u001b[0m\u001b[37m\u001b[0m \u001b[1m21s\u001b[0m 613ms/step - accuracy: 1.0000 - loss: 5.7304e-05 - val_accuracy: 0.8327 - val_loss: 1.1616\n",
      "Epoch 41/50\n",
      "\u001b[1m33/33\u001b[0m \u001b[32m━━━━━━━━━━━━━━━━━━━━\u001b[0m\u001b[37m\u001b[0m \u001b[1m0s\u001b[0m 449ms/step - accuracy: 1.0000 - loss: 5.0747e-05\n",
      "Epoch 41: val_loss did not improve from 0.48514\n",
      "\u001b[1m33/33\u001b[0m \u001b[32m━━━━━━━━━━━━━━━━━━━━\u001b[0m\u001b[37m\u001b[0m \u001b[1m16s\u001b[0m 480ms/step - accuracy: 1.0000 - loss: 5.0806e-05 - val_accuracy: 0.8251 - val_loss: 1.1705\n",
      "Epoch 42/50\n",
      "\u001b[1m33/33\u001b[0m \u001b[32m━━━━━━━━━━━━━━━━━━━━\u001b[0m\u001b[37m\u001b[0m \u001b[1m0s\u001b[0m 459ms/step - accuracy: 1.0000 - loss: 4.7076e-05\n",
      "Epoch 42: val_loss did not improve from 0.48514\n",
      "\u001b[1m33/33\u001b[0m \u001b[32m━━━━━━━━━━━━━━━━━━━━\u001b[0m\u001b[37m\u001b[0m \u001b[1m16s\u001b[0m 487ms/step - accuracy: 1.0000 - loss: 4.7195e-05 - val_accuracy: 0.8327 - val_loss: 1.1823\n",
      "Epoch 43/50\n",
      "\u001b[1m33/33\u001b[0m \u001b[32m━━━━━━━━━━━━━━━━━━━━\u001b[0m\u001b[37m\u001b[0m \u001b[1m0s\u001b[0m 454ms/step - accuracy: 1.0000 - loss: 4.6365e-05\n",
      "Epoch 43: val_loss did not improve from 0.48514\n",
      "\u001b[1m33/33\u001b[0m \u001b[32m━━━━━━━━━━━━━━━━━━━━\u001b[0m\u001b[37m\u001b[0m \u001b[1m16s\u001b[0m 481ms/step - accuracy: 1.0000 - loss: 4.6388e-05 - val_accuracy: 0.8289 - val_loss: 1.1930\n",
      "Epoch 44/50\n",
      "\u001b[1m33/33\u001b[0m \u001b[32m━━━━━━━━━━━━━━━━━━━━\u001b[0m\u001b[37m\u001b[0m \u001b[1m0s\u001b[0m 454ms/step - accuracy: 1.0000 - loss: 4.5116e-05\n",
      "Epoch 44: val_loss did not improve from 0.48514\n",
      "\u001b[1m33/33\u001b[0m \u001b[32m━━━━━━━━━━━━━━━━━━━━\u001b[0m\u001b[37m\u001b[0m \u001b[1m16s\u001b[0m 485ms/step - accuracy: 1.0000 - loss: 4.5075e-05 - val_accuracy: 0.8251 - val_loss: 1.1991\n",
      "Epoch 45/50\n",
      "\u001b[1m33/33\u001b[0m \u001b[32m━━━━━━━━━━━━━━━━━━━━\u001b[0m\u001b[37m\u001b[0m \u001b[1m0s\u001b[0m 442ms/step - accuracy: 1.0000 - loss: 4.0568e-05\n",
      "Epoch 45: val_loss did not improve from 0.48514\n",
      "\u001b[1m33/33\u001b[0m \u001b[32m━━━━━━━━━━━━━━━━━━━━\u001b[0m\u001b[37m\u001b[0m \u001b[1m20s\u001b[0m 469ms/step - accuracy: 1.0000 - loss: 4.0584e-05 - val_accuracy: 0.8251 - val_loss: 1.2042\n",
      "Epoch 46/50\n",
      "\u001b[1m33/33\u001b[0m \u001b[32m━━━━━━━━━━━━━━━━━━━━\u001b[0m\u001b[37m\u001b[0m \u001b[1m0s\u001b[0m 442ms/step - accuracy: 1.0000 - loss: 4.1634e-05\n",
      "Epoch 46: val_loss did not improve from 0.48514\n",
      "\u001b[1m33/33\u001b[0m \u001b[32m━━━━━━━━━━━━━━━━━━━━\u001b[0m\u001b[37m\u001b[0m \u001b[1m15s\u001b[0m 469ms/step - accuracy: 1.0000 - loss: 4.1580e-05 - val_accuracy: 0.8251 - val_loss: 1.2105\n",
      "Epoch 47/50\n",
      "\u001b[1m33/33\u001b[0m \u001b[32m━━━━━━━━━━━━━━━━━━━━\u001b[0m\u001b[37m\u001b[0m \u001b[1m0s\u001b[0m 446ms/step - accuracy: 1.0000 - loss: 3.8449e-05\n",
      "Epoch 47: val_loss did not improve from 0.48514\n",
      "\u001b[1m33/33\u001b[0m \u001b[32m━━━━━━━━━━━━━━━━━━━━\u001b[0m\u001b[37m\u001b[0m \u001b[1m16s\u001b[0m 474ms/step - accuracy: 1.0000 - loss: 3.8397e-05 - val_accuracy: 0.8251 - val_loss: 1.2175\n",
      "Epoch 48/50\n",
      "\u001b[1m33/33\u001b[0m \u001b[32m━━━━━━━━━━━━━━━━━━━━\u001b[0m\u001b[37m\u001b[0m \u001b[1m0s\u001b[0m 458ms/step - accuracy: 1.0000 - loss: 3.7074e-05\n",
      "Epoch 48: val_loss did not improve from 0.48514\n",
      "\u001b[1m33/33\u001b[0m \u001b[32m━━━━━━━━━━━━━━━━━━━━\u001b[0m\u001b[37m\u001b[0m \u001b[1m16s\u001b[0m 486ms/step - accuracy: 1.0000 - loss: 3.6997e-05 - val_accuracy: 0.8289 - val_loss: 1.2307\n",
      "Epoch 49/50\n",
      "\u001b[1m33/33\u001b[0m \u001b[32m━━━━━━━━━━━━━━━━━━━━\u001b[0m\u001b[37m\u001b[0m \u001b[1m0s\u001b[0m 443ms/step - accuracy: 1.0000 - loss: 2.9589e-05\n",
      "Epoch 49: val_loss did not improve from 0.48514\n",
      "\u001b[1m33/33\u001b[0m \u001b[32m━━━━━━━━━━━━━━━━━━━━\u001b[0m\u001b[37m\u001b[0m \u001b[1m16s\u001b[0m 473ms/step - accuracy: 1.0000 - loss: 2.9682e-05 - val_accuracy: 0.8289 - val_loss: 1.2372\n",
      "Epoch 50/50\n",
      "\u001b[1m33/33\u001b[0m \u001b[32m━━━━━━━━━━━━━━━━━━━━\u001b[0m\u001b[37m\u001b[0m \u001b[1m0s\u001b[0m 455ms/step - accuracy: 1.0000 - loss: 3.0814e-05\n",
      "Epoch 50: val_loss did not improve from 0.48514\n",
      "\u001b[1m33/33\u001b[0m \u001b[32m━━━━━━━━━━━━━━━━━━━━\u001b[0m\u001b[37m\u001b[0m \u001b[1m16s\u001b[0m 484ms/step - accuracy: 1.0000 - loss: 3.0787e-05 - val_accuracy: 0.8289 - val_loss: 1.2519\n"
     ]
    }
   ],
   "source": [
    "\n",
    "history = model.fit(\n",
    "    x_train, y_train,\n",
    "    validation_data=(x_test, y_test),\n",
    "    epochs=50,\n",
    "    callbacks=[checkpoint]\n",
    ")\n",
    "\n"
   ]
  },
  {
   "cell_type": "markdown",
   "metadata": {},
   "source": [
    "**load the model**"
   ]
  },
  {
   "cell_type": "code",
   "execution_count": 118,
   "metadata": {
    "executionInfo": {
     "elapsed": 3,
     "status": "aborted",
     "timestamp": 1747507739256,
     "user": {
      "displayName": "sino toas",
      "userId": "03500899806796242522"
     },
     "user_tz": -330
    },
    "id": "dPtQ4qOnN2fo"
   },
   "outputs": [
    {
     "name": "stderr",
     "output_type": "stream",
     "text": [
      "WARNING:absl:Compiled the loaded model, but the compiled metrics have yet to be built. `model.compile_metrics` will be empty until you train or evaluate the model.\n"
     ]
    }
   ],
   "source": [
    "\n",
    "\n",
    "\n",
    "from tensorflow.keras.models import load_model\n",
    "\n",
    "best_model = load_model('best_model.h5')\n",
    "\n",
    "\n",
    "\n"
   ]
  },
  {
   "cell_type": "code",
   "execution_count": 119,
   "metadata": {
    "executionInfo": {
     "elapsed": 5507,
     "status": "aborted",
     "timestamp": 1747507739262,
     "user": {
      "displayName": "sino toas",
      "userId": "03500899806796242522"
     },
     "user_tz": -330
    },
    "id": "KLlpAiL-N2j-"
   },
   "outputs": [
    {
     "name": "stdout",
     "output_type": "stream",
     "text": [
      "\u001b[1m9/9\u001b[0m \u001b[32m━━━━━━━━━━━━━━━━━━━━\u001b[0m\u001b[37m\u001b[0m \u001b[1m1s\u001b[0m 102ms/step - accuracy: 0.8410 - loss: 0.4582\n",
      "Best model test accuracy: 0.8250950574874878\n"
     ]
    }
   ],
   "source": [
    "loss, acc = best_model.evaluate(x_test, y_test)\n",
    "print(f\"Best model test accuracy: {acc}\")\n",
    "\n",
    "\n"
   ]
  },
  {
   "cell_type": "markdown",
   "metadata": {},
   "source": [
    "**test the model using one of the image of dataset**"
   ]
  },
  {
   "cell_type": "code",
   "execution_count": null,
   "metadata": {
    "executionInfo": {
     "elapsed": 5550,
     "status": "aborted",
     "timestamp": 1747507739306,
     "user": {
      "displayName": "sino toas",
      "userId": "03500899806796242522"
     },
     "user_tz": -330
    },
    "id": "s3Bg4GTbN2oJ"
   },
   "outputs": [
    {
     "name": "stdout",
     "output_type": "stream",
     "text": [
      "\u001b[1m1/1\u001b[0m \u001b[32m━━━━━━━━━━━━━━━━━━━━\u001b[0m\u001b[37m\u001b[0m \u001b[1m0s\u001b[0m 83ms/step\n"
     ]
    },
    {
     "data": {
      "image/png": "[encoded data removed]",
      "text/plain": [
       "<Figure size 640x480 with 1 Axes>"
      ]
     },
     "metadata": {},
     "output_type": "display_data"
    },
    {
     "name": "stdout",
     "output_type": "stream",
     "text": [
      "Prediction: notumor\n",
      "Probabilities: [0.00373318 0.00590998 0.9832465  0.00711033]\n"
     ]
    }
   ],
   "source": [
    "\n",
    "def imout(image_path, model, class_map=None, show_image=True):\n",
    "    \"\"\"\n",
    "    Load an image, preprocess, predict class, and optionally display.\n",
    "\n",
    "    Args:\n",
    "        image_path (str): Path to the input image.\n",
    "        model (tf.keras.Model): Trained Keras model.\n",
    "        class_map (dict): Optional mapping from label name to index. If provided, will invert for name lookup.\n",
    "        show_image (bool): Whether to display the input image.\n",
    "\n",
    "    Returns:\n",
    "        predicted_label (str or int): The predicted class index or label name.\n",
    "        probabilities (np.ndarray): Softmax probabilities for each class.\n",
    "    \"\"\"\n",
    "    # Load & preprocess image\n",
    "    img = Image.open(image_path).convert('L').resize((150, 150))\n",
    "    arr = np.array(img, dtype=np.float32) / 255.0\n",
    "    arr = arr.reshape(1, 150, 150, 1)\n",
    "\n",
    "    # Predict\n",
    "    probs = model.predict(arr)[0]\n",
    "    pred_idx = np.argmax(probs)\n",
    "\n",
    "    # Map back to label name if class_map provided\n",
    "    if class_map is not None:\n",
    "        inv_map = {v: k for k, v in class_map.items()}\n",
    "        pred_label = inv_map.get(pred_idx, pred_idx)\n",
    "    else:\n",
    "        pred_label = pred_idx\n",
    "\n",
    "    # Show image\n",
    "    if show_image:\n",
    "        plt.imshow(arr.squeeze(), cmap='gray')\n",
    "        plt.title(f\"Predicted: {pred_label} | Prob: {probs[pred_idx]:.4f}\")\n",
    "        plt.axis('off')\n",
    "        plt.show()\n",
    "\n",
    "    return pred_label, probs\n",
    "\n",
    "# Example usage:\n",
    "result_label, result_probs = imout(\n",
    "     r'archive\\Testing\\glioma\\Te-gl_0012.jpg',\n",
    "     best_model,\n",
    "     class_map=map_tumor\n",
    " )\n",
    "print(\"Prediction:\", result_label)\n",
    "print(\"Probabilities:\", result_probs)\n",
    "\n",
    "\n",
    "\n",
    "\n"
   ]
  },
  {
   "cell_type": "code",
   "execution_count": null,
   "metadata": {
    "executionInfo": {
     "elapsed": 5554,
     "status": "aborted",
     "timestamp": 1747507739311,
     "user": {
      "displayName": "sino toas",
      "userId": "03500899806796242522"
     },
     "user_tz": -330
    },
    "id": "4fn5wRc-N2uy"
   },
   "outputs": [],
   "source": [
    "\n"
   ]
  },
  {
   "cell_type": "code",
   "execution_count": null,
   "metadata": {
    "executionInfo": {
     "elapsed": 5567,
     "status": "aborted",
     "timestamp": 1747507739325,
     "user": {
      "displayName": "sino toas",
      "userId": "03500899806796242522"
     },
     "user_tz": -330
    },
    "id": "BwDJAYcBN21Y"
   },
   "outputs": [],
   "source": [
    "\n"
   ]
  },
  {
   "cell_type": "code",
   "execution_count": null,
   "metadata": {
    "executionInfo": {
     "elapsed": 5666,
     "status": "aborted",
     "timestamp": 1747507739425,
     "user": {
      "displayName": "sino toas",
      "userId": "03500899806796242522"
     },
     "user_tz": -330
    },
    "id": "ebUbNnhXN27_"
   },
   "outputs": [],
   "source": []
  }
 ],
 "metadata": {
  "colab": {
   "authorship_tag": "ABX9TyOOcg6331OrcUsFj7WJOQge",
   "provenance": []
  },
  "kernelspec": {
   "display_name": "Python 3",
   "name": "python3"
  },
  "language_info": {
   "codemirror_mode": {
    "name": "ipython",
    "version": 3
   },
   "file_extension": ".py",
   "mimetype": "text/x-python",
   "name": "python",
   "nbconvert_exporter": "python",
   "pygments_lexer": "ipython3",
   "version": "3.12.6"
  }
 },
 "nbformat": 4,
 "nbformat_minor": 0
}
